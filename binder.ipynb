{
 "cells": [
  {
   "cell_type": "code",
   "execution_count": 1,
   "metadata": {
    "execution": {
     "iopub.execute_input": "2020-08-18T08:14:28.598439Z",
     "iopub.status.busy": "2020-08-18T08:14:28.598028Z",
     "iopub.status.idle": "2020-08-18T08:14:31.926249Z",
     "shell.execute_reply": "2020-08-18T08:14:31.925519Z",
     "shell.execute_reply.started": "2020-08-18T08:14:28.598381Z"
    }
   },
   "outputs": [
    {
     "name": "stdout",
     "output_type": "stream",
     "text": [
      "Requirement already satisfied: joblib in /Users/ankur/anaconda3/lib/python3.6/site-packages (0.14.1)\n"
     ]
    }
   ],
   "source": [
    "import ipywidgets as widgets\n",
    "!pip install joblib\n",
    "import joblib as joblib\n"
   ]
  },
  {
   "cell_type": "code",
   "execution_count": 2,
   "metadata": {
    "execution": {
     "iopub.execute_input": "2020-08-18T08:14:31.928673Z",
     "iopub.status.busy": "2020-08-18T08:14:31.928252Z",
     "iopub.status.idle": "2020-08-18T08:14:31.962046Z",
     "shell.execute_reply": "2020-08-18T08:14:31.956441Z",
     "shell.execute_reply.started": "2020-08-18T08:14:31.928630Z"
    }
   },
   "outputs": [],
   "source": [
    "learn_inf = joblib.load('export.pkl')"
   ]
  },
  {
   "cell_type": "code",
   "execution_count": 3,
   "metadata": {
    "execution": {
     "iopub.execute_input": "2020-08-18T08:14:31.976932Z",
     "iopub.status.busy": "2020-08-18T08:14:31.975884Z",
     "iopub.status.idle": "2020-08-18T08:14:32.006817Z",
     "shell.execute_reply": "2020-08-18T08:14:32.005468Z",
     "shell.execute_reply.started": "2020-08-18T08:14:31.976862Z"
    }
   },
   "outputs": [
    {
     "data": {
      "application/vnd.jupyter.widget-view+json": {
       "model_id": "4f9330bdd7e846bf818d08ee2615465d",
       "version_major": 2,
       "version_minor": 0
      },
      "text/plain": [
       "FileUpload(value={}, description='Upload')"
      ]
     },
     "metadata": {},
     "output_type": "display_data"
    }
   ],
   "source": [
    "btn_upload = widgets.FileUpload()\n",
    "btn_upload"
   ]
  },
  {
   "cell_type": "code",
   "execution_count": 5,
   "metadata": {
    "execution": {
     "iopub.execute_input": "2020-08-18T08:21:20.977908Z",
     "iopub.status.busy": "2020-08-18T08:21:20.977552Z",
     "iopub.status.idle": "2020-08-18T08:21:20.989702Z",
     "shell.execute_reply": "2020-08-18T08:21:20.988436Z",
     "shell.execute_reply.started": "2020-08-18T08:21:20.977873Z"
    }
   },
   "outputs": [
    {
     "data": {
      "text/plain": [
       "'7.5.1'"
      ]
     },
     "execution_count": 5,
     "metadata": {},
     "output_type": "execute_result"
    }
   ],
   "source": [
    "widgets.__version__"
   ]
  },
  {
   "cell_type": "code",
   "execution_count": null,
   "metadata": {},
   "outputs": [],
   "source": []
  },
  {
   "cell_type": "code",
   "execution_count": null,
   "metadata": {},
   "outputs": [],
   "source": []
  },
  {
   "cell_type": "code",
   "execution_count": null,
   "metadata": {},
   "outputs": [],
   "source": []
  },
  {
   "cell_type": "code",
   "execution_count": null,
   "metadata": {},
   "outputs": [],
   "source": []
  }
 ],
 "metadata": {
  "kernelspec": {
   "display_name": "Python 3",
   "language": "python",
   "name": "python3"
  },
  "language_info": {
   "codemirror_mode": {
    "name": "ipython",
    "version": 3
   },
   "file_extension": ".py",
   "mimetype": "text/x-python",
   "name": "python",
   "nbconvert_exporter": "python",
   "pygments_lexer": "ipython3",
   "version": "3.6.4"
  }
 },
 "nbformat": 4,
 "nbformat_minor": 4
}
